{
 "cells": [
  {
   "cell_type": "markdown",
   "id": "b724d1f8-c299-40d5-8c96-6bfc6e2fb214",
   "metadata": {},
   "source": [
    "# K-Nearest Neighbors (KNN)\n",
    "The K-Nearest Neighbors (KNN) algorithm is a simple and versatile supervised learning method used for both classification and regression tasks."
   ]
  },
  {
   "cell_type": "markdown",
   "id": "76a123de-b4bd-4860-92b2-cc9c2d6c9629",
   "metadata": {},
   "source": [
    "## Classiification\n",
    "- In KNN classification, the algorithm assigns a data point to the class most common among its K nearest neighbors.\n",
    "- It uses a distance metric (e.g., Euclidean, Manhattan) to find the closest data points.\n",
    "- For instance, if K=3, the data point is classified based on the majority class of its 3 nearest neighbors."
   ]
  },
  {
   "cell_type": "markdown",
   "id": "676d748f-3de6-4164-a554-66f3171be5f8",
   "metadata": {},
   "source": [
    "## Regression\n",
    "- In KNN regression, the algorithm predicts a numerical value for a data point based on the average (or weighted average) of the values of its K nearest neighbors.\n",
    "- It works similarly to classification but instead of voting, it calculates the mean (or weighted mean) of the neighbors' values."
   ]
  },
  {
   "cell_type": "markdown",
   "id": "cc96128a-1014-4612-8b76-dbe19d91d638",
   "metadata": {},
   "source": [
    "Key Points:\n",
    "- KNN is non-parametric, meaning it makes no assumptions about the underlying data distribution.\n",
    "- It is sensitive to the choice of K and the distance metric.\n",
    "- While simple, it can be computationally expensive for large datasets due to its reliance on distance calculations for every query."
   ]
  },
  {
   "cell_type": "markdown",
   "id": "cc72a96b-ed4e-462c-8490-97ee31847e7c",
   "metadata": {},
   "source": [
    "KDTree and Ball Tree are data structures used to speed up nearest-neighbor searches, especially in high-dimensional spaces. They are commonly employed in algorithms like K-Nearest Neighbors (KNN) to reduce the computational cost of finding the closest data points."
   ]
  },
  {
   "cell_type": "markdown",
   "id": "e7b15709-058c-4025-9ea8-d47d82dfe3d3",
   "metadata": {},
   "source": [
    "## KDTree (K-Dimensional Tree):\n",
    "- Structure:\n",
    "    - A binary tree that recursively partitions the space along one dimension at a time.\n",
    "    - At each level, the data is split based on a specific feature (dimension) at the median value, ensuring a balanced tree.\n",
    "- Best for:\n",
    "    - Works well in low to moderately high dimensions (usually less than 20).\n",
    "    - Efficient for data with uniform distributions.\n",
    "- Limitation:\n",
    "    - Performance degrades in very high-dimensional spaces due to the \"curse of dimensionality.\""
   ]
  },
  {
   "cell_type": "markdown",
   "id": "9bbee6cd-1590-41ac-861e-970e6e68f60a",
   "metadata": {},
   "source": [
    "## Ball Tree:\n",
    "- Structure:\n",
    "    - A hierarchical structure that partitions the data into hyperspherical regions (balls).\n",
    "    - Each node in the tree represents a ball containing a subset of the data points, defined by a center and a radius.\n",
    "- Best for:\n",
    "    - Handles high-dimensional data better than KDTree in many cases.\n",
    "    - Suitable for datasets that are non-uniformly distributed.\n",
    "- Limitation:\n",
    "    - More complex to build compared to KDTree."
   ]
  },
  {
   "cell_type": "markdown",
   "id": "3848d89f-30bf-4921-8d5a-94ea1b2c4bad",
   "metadata": {},
   "source": [
    "## Comparison:\n",
    "- KDTree is faster for low dimensions, as it relies on axis-aligned splits.\n",
    "- Ball Tree is more robust for high dimensions or irregular data distributions because of its spherical partitioning.\n",
    "- Both data structures are widely used in libraries like scikit-learn to improve the efficiency of KNN and related algorithms"
   ]
  }
 ],
 "metadata": {
  "kernelspec": {
   "display_name": "Python 3 (ipykernel)",
   "language": "python",
   "name": "python3"
  },
  "language_info": {
   "codemirror_mode": {
    "name": "ipython",
    "version": 3
   },
   "file_extension": ".py",
   "mimetype": "text/x-python",
   "name": "python",
   "nbconvert_exporter": "python",
   "pygments_lexer": "ipython3",
   "version": "3.12.5"
  }
 },
 "nbformat": 4,
 "nbformat_minor": 5
}
